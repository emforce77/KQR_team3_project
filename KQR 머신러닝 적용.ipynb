{
 "cells": [
  {
   "cell_type": "markdown",
   "metadata": {},
   "source": [
    "# 데이터 준비"
   ]
  },
  {
   "cell_type": "code",
   "execution_count": 18,
   "metadata": {
    "ExecuteTime": {
     "end_time": "2021-07-03T16:18:43.330830Z",
     "start_time": "2021-07-03T16:18:43.317896Z"
    }
   },
   "outputs": [],
   "source": [
    "import numpy\n",
    "import pandas as pd\n",
    "import tensorflow as tf\n",
    "import requests\n",
    "import time\n",
    "\n",
    "#데이터 분할\n",
    "from sklearn.model_selection import train_test_split\n",
    "\n"
   ]
  },
  {
   "cell_type": "code",
   "execution_count": 20,
   "metadata": {
    "ExecuteTime": {
     "end_time": "2021-07-03T16:18:53.940385Z",
     "start_time": "2021-07-03T16:18:53.920439Z"
    }
   },
   "outputs": [
    {
     "data": {
      "text/html": [
       "<div>\n",
       "<style scoped>\n",
       "    .dataframe tbody tr th:only-of-type {\n",
       "        vertical-align: middle;\n",
       "    }\n",
       "\n",
       "    .dataframe tbody tr th {\n",
       "        vertical-align: top;\n",
       "    }\n",
       "\n",
       "    .dataframe thead th {\n",
       "        text-align: right;\n",
       "    }\n",
       "</style>\n",
       "<table border=\"1\" class=\"dataframe\">\n",
       "  <thead>\n",
       "    <tr style=\"text-align: right;\">\n",
       "      <th></th>\n",
       "      <th>PER</th>\n",
       "      <th>EPS증가율</th>\n",
       "      <th>저변동성</th>\n",
       "      <th>QUANTITY</th>\n",
       "      <th>PER스코어</th>\n",
       "      <th>EPS스코어</th>\n",
       "      <th>VOL스코어</th>\n",
       "      <th>QUT스코어</th>\n",
       "      <th>y</th>\n",
       "    </tr>\n",
       "    <tr>\n",
       "      <th>Unnamed: 0</th>\n",
       "      <th></th>\n",
       "      <th></th>\n",
       "      <th></th>\n",
       "      <th></th>\n",
       "      <th></th>\n",
       "      <th></th>\n",
       "      <th></th>\n",
       "      <th></th>\n",
       "      <th></th>\n",
       "    </tr>\n",
       "  </thead>\n",
       "  <tbody>\n",
       "    <tr>\n",
       "      <th>A010620</th>\n",
       "      <td>3.61</td>\n",
       "      <td>1163.8</td>\n",
       "      <td>0.028438</td>\n",
       "      <td>-0.012054</td>\n",
       "      <td>-0.401098</td>\n",
       "      <td>-5.961855</td>\n",
       "      <td>0.576659</td>\n",
       "      <td>0.315095</td>\n",
       "      <td>0</td>\n",
       "    </tr>\n",
       "    <tr>\n",
       "      <th>A036490</th>\n",
       "      <td>18.63</td>\n",
       "      <td>-6.2</td>\n",
       "      <td>0.021455</td>\n",
       "      <td>-0.000799</td>\n",
       "      <td>-0.251741</td>\n",
       "      <td>0.225732</td>\n",
       "      <td>-0.219643</td>\n",
       "      <td>0.155819</td>\n",
       "      <td>0</td>\n",
       "    </tr>\n",
       "    <tr>\n",
       "      <th>A039490</th>\n",
       "      <td>8.06</td>\n",
       "      <td>33.5</td>\n",
       "      <td>0.021396</td>\n",
       "      <td>0.095315</td>\n",
       "      <td>-0.356848</td>\n",
       "      <td>0.015777</td>\n",
       "      <td>-0.226464</td>\n",
       "      <td>-1.204403</td>\n",
       "      <td>0</td>\n",
       "    </tr>\n",
       "    <tr>\n",
       "      <th>A088350</th>\n",
       "      <td>10.26</td>\n",
       "      <td>-26.5</td>\n",
       "      <td>0.016679</td>\n",
       "      <td>-0.065330</td>\n",
       "      <td>-0.334971</td>\n",
       "      <td>0.333089</td>\n",
       "      <td>-0.764392</td>\n",
       "      <td>1.069069</td>\n",
       "      <td>0</td>\n",
       "    </tr>\n",
       "    <tr>\n",
       "      <th>A020150</th>\n",
       "      <td>38.40</td>\n",
       "      <td>3.0</td>\n",
       "      <td>0.035474</td>\n",
       "      <td>0.017863</td>\n",
       "      <td>-0.055151</td>\n",
       "      <td>0.177077</td>\n",
       "      <td>1.379063</td>\n",
       "      <td>-0.108291</td>\n",
       "      <td>0</td>\n",
       "    </tr>\n",
       "    <tr>\n",
       "      <th>...</th>\n",
       "      <td>...</td>\n",
       "      <td>...</td>\n",
       "      <td>...</td>\n",
       "      <td>...</td>\n",
       "      <td>...</td>\n",
       "      <td>...</td>\n",
       "      <td>...</td>\n",
       "      <td>...</td>\n",
       "      <td>...</td>\n",
       "    </tr>\n",
       "    <tr>\n",
       "      <th>A010050</th>\n",
       "      <td>6.06</td>\n",
       "      <td>13.0</td>\n",
       "      <td>0.023780</td>\n",
       "      <td>-0.018092</td>\n",
       "      <td>-0.133014</td>\n",
       "      <td>0.107188</td>\n",
       "      <td>-0.913004</td>\n",
       "      <td>0.018623</td>\n",
       "      <td>0</td>\n",
       "    </tr>\n",
       "    <tr>\n",
       "      <th>A268280</th>\n",
       "      <td>15.54</td>\n",
       "      <td>-10.8</td>\n",
       "      <td>0.011470</td>\n",
       "      <td>-0.038515</td>\n",
       "      <td>-0.119446</td>\n",
       "      <td>0.155562</td>\n",
       "      <td>-1.731309</td>\n",
       "      <td>0.362234</td>\n",
       "      <td>0</td>\n",
       "    </tr>\n",
       "    <tr>\n",
       "      <th>A280360</th>\n",
       "      <td>15.97</td>\n",
       "      <td>7.7</td>\n",
       "      <td>0.020932</td>\n",
       "      <td>-0.066542</td>\n",
       "      <td>-0.118831</td>\n",
       "      <td>0.117960</td>\n",
       "      <td>-1.102329</td>\n",
       "      <td>0.833787</td>\n",
       "      <td>0</td>\n",
       "    </tr>\n",
       "    <tr>\n",
       "      <th>A082640</th>\n",
       "      <td>4.42</td>\n",
       "      <td>11.6</td>\n",
       "      <td>0.033029</td>\n",
       "      <td>0.010624</td>\n",
       "      <td>-0.135361</td>\n",
       "      <td>0.110034</td>\n",
       "      <td>-0.298128</td>\n",
       "      <td>-0.464529</td>\n",
       "      <td>0</td>\n",
       "    </tr>\n",
       "    <tr>\n",
       "      <th>A192400</th>\n",
       "      <td>6.66</td>\n",
       "      <td>34.3</td>\n",
       "      <td>0.023662</td>\n",
       "      <td>-0.163491</td>\n",
       "      <td>-0.132155</td>\n",
       "      <td>0.063895</td>\n",
       "      <td>-0.920836</td>\n",
       "      <td>2.464963</td>\n",
       "      <td>0</td>\n",
       "    </tr>\n",
       "  </tbody>\n",
       "</table>\n",
       "<p>1889 rows × 9 columns</p>\n",
       "</div>"
      ],
      "text/plain": [
       "              PER  EPS증가율      저변동성  QUANTITY    PER스코어    EPS스코어    VOL스코어  \\\n",
       "Unnamed: 0                                                                    \n",
       "A010620      3.61  1163.8  0.028438 -0.012054 -0.401098 -5.961855  0.576659   \n",
       "A036490     18.63    -6.2  0.021455 -0.000799 -0.251741  0.225732 -0.219643   \n",
       "A039490      8.06    33.5  0.021396  0.095315 -0.356848  0.015777 -0.226464   \n",
       "A088350     10.26   -26.5  0.016679 -0.065330 -0.334971  0.333089 -0.764392   \n",
       "A020150     38.40     3.0  0.035474  0.017863 -0.055151  0.177077  1.379063   \n",
       "...           ...     ...       ...       ...       ...       ...       ...   \n",
       "A010050      6.06    13.0  0.023780 -0.018092 -0.133014  0.107188 -0.913004   \n",
       "A268280     15.54   -10.8  0.011470 -0.038515 -0.119446  0.155562 -1.731309   \n",
       "A280360     15.97     7.7  0.020932 -0.066542 -0.118831  0.117960 -1.102329   \n",
       "A082640      4.42    11.6  0.033029  0.010624 -0.135361  0.110034 -0.298128   \n",
       "A192400      6.66    34.3  0.023662 -0.163491 -0.132155  0.063895 -0.920836   \n",
       "\n",
       "              QUT스코어  y  \n",
       "Unnamed: 0               \n",
       "A010620     0.315095  0  \n",
       "A036490     0.155819  0  \n",
       "A039490    -1.204403  0  \n",
       "A088350     1.069069  0  \n",
       "A020150    -0.108291  0  \n",
       "...              ... ..  \n",
       "A010050     0.018623  0  \n",
       "A268280     0.362234  0  \n",
       "A280360     0.833787  0  \n",
       "A082640    -0.464529  0  \n",
       "A192400     2.464963  0  \n",
       "\n",
       "[1889 rows x 9 columns]"
      ]
     },
     "execution_count": 20,
     "metadata": {},
     "output_type": "execute_result"
    }
   ],
   "source": [
    "X_data = pd.read_csv(\"Dataset2.csv\") # dataset 1 과 2\n",
    "X_data = X_data.set_index(\"Unnamed: 0\")\n",
    "X_data"
   ]
  },
  {
   "cell_type": "code",
   "execution_count": 21,
   "metadata": {
    "ExecuteTime": {
     "end_time": "2021-07-03T16:18:56.688715Z",
     "start_time": "2021-07-03T16:18:56.677769Z"
    }
   },
   "outputs": [],
   "source": [
    "#데이터 분할\n",
    "\n",
    "X = X_data.values[:,4:8]\n",
    "Y = X_data.values[:,8]\n",
    "\n",
    "X_train, X_test, Y_train, Y_test = train_test_split(X,Y, test_size=0.1, random_state=0)\n"
   ]
  },
  {
   "cell_type": "markdown",
   "metadata": {},
   "source": [
    "# 결정트리 모델"
   ]
  },
  {
   "cell_type": "code",
   "execution_count": 22,
   "metadata": {
    "ExecuteTime": {
     "end_time": "2021-07-03T16:18:58.848322Z",
     "start_time": "2021-07-03T16:18:58.833363Z"
    }
   },
   "outputs": [],
   "source": [
    "from sklearn.tree import DecisionTreeClassifier\n"
   ]
  },
  {
   "cell_type": "code",
   "execution_count": 23,
   "metadata": {
    "ExecuteTime": {
     "end_time": "2021-07-03T16:18:59.578317Z",
     "start_time": "2021-07-03T16:18:59.564355Z"
    }
   },
   "outputs": [
    {
     "name": "stdout",
     "output_type": "stream",
     "text": [
      "훈련 세트 정확도: 0.962\n",
      "테스트 세트 정확도: 0.931\n"
     ]
    }
   ],
   "source": [
    "\n",
    "tree = DecisionTreeClassifier(max_depth=4,random_state=0)\n",
    "tree.fit(X_train, Y_train)\n",
    "\n",
    "print(\"훈련 세트 정확도: {:.3f}\".format(tree.score(X_train, Y_train)))\n",
    "print(\"테스트 세트 정확도: {:.3f}\".format(tree.score(X_test, Y_test)))\n",
    "\n"
   ]
  },
  {
   "cell_type": "code",
   "execution_count": 24,
   "metadata": {
    "ExecuteTime": {
     "end_time": "2021-07-03T16:19:05.134263Z",
     "start_time": "2021-07-03T16:19:05.124290Z"
    }
   },
   "outputs": [
    {
     "name": "stdout",
     "output_type": "stream",
     "text": [
      "특성 중요도:\n",
      "[0.38966888 0.01096896 0.14249939 0.45686277]\n"
     ]
    }
   ],
   "source": [
    "#특성중요도\n",
    "\n",
    "print(\"특성 중요도:\\n{}\".format(tree.feature_importances_))\n"
   ]
  },
  {
   "cell_type": "code",
   "execution_count": 25,
   "metadata": {
    "ExecuteTime": {
     "end_time": "2021-07-03T16:19:07.685367Z",
     "start_time": "2021-07-03T16:19:07.669410Z"
    }
   },
   "outputs": [],
   "source": [
    "from sklearn.tree import export_graphviz\n",
    "export_graphviz(tree, out_file=\"tree.dot\", class_names=[\"0\", \"1\"],\n",
    "                \n",
    "                impurity=False, filled=True)\n"
   ]
  },
  {
   "cell_type": "code",
   "execution_count": 13,
   "metadata": {
    "ExecuteTime": {
     "end_time": "2021-07-03T02:31:10.763865Z",
     "start_time": "2021-07-03T02:31:10.609258Z"
    },
    "scrolled": true
   },
   "outputs": [
    {
     "data": {
      "image/svg+xml": [
       "<?xml version=\"1.0\" encoding=\"UTF-8\" standalone=\"no\"?>\r\n",
       "<!DOCTYPE svg PUBLIC \"-//W3C//DTD SVG 1.1//EN\"\r\n",
       " \"http://www.w3.org/Graphics/SVG/1.1/DTD/svg11.dtd\">\r\n",
       "<!-- Generated by graphviz version 2.47.3 (20210619.1520)\r\n",
       " -->\r\n",
       "<!-- Title: Tree Pages: 1 -->\r\n",
       "<svg width=\"1042pt\" height=\"477pt\"\r\n",
       " viewBox=\"0.00 0.00 1041.50 477.00\" xmlns=\"http://www.w3.org/2000/svg\" xmlns:xlink=\"http://www.w3.org/1999/xlink\">\r\n",
       "<g id=\"graph0\" class=\"graph\" transform=\"scale(1 1) rotate(0) translate(4 473)\">\r\n",
       "<title>Tree</title>\r\n",
       "<polygon fill=\"white\" stroke=\"transparent\" points=\"-4,4 -4,-473 1037.5,-473 1037.5,4 -4,4\"/>\r\n",
       "<!-- 0 -->\r\n",
       "<g id=\"node1\" class=\"node\">\r\n",
       "<title>0</title>\r\n",
       "<polygon fill=\"#e68743\" stroke=\"black\" points=\"496.5,-469 378.5,-469 378.5,-401 496.5,-401 496.5,-469\"/>\r\n",
       "<text text-anchor=\"middle\" x=\"437.5\" y=\"-453.8\" font-family=\"Times New Roman,serif\" font-size=\"14.00\">X[2] &lt;= &#45;0.658</text>\r\n",
       "<text text-anchor=\"middle\" x=\"437.5\" y=\"-438.8\" font-family=\"Times New Roman,serif\" font-size=\"14.00\">samples = 1677</text>\r\n",
       "<text text-anchor=\"middle\" x=\"437.5\" y=\"-423.8\" font-family=\"Times New Roman,serif\" font-size=\"14.00\">value = [1599, 78]</text>\r\n",
       "<text text-anchor=\"middle\" x=\"437.5\" y=\"-408.8\" font-family=\"Times New Roman,serif\" font-size=\"14.00\">class = 0</text>\r\n",
       "</g>\r\n",
       "<!-- 1 -->\r\n",
       "<g id=\"node2\" class=\"node\">\r\n",
       "<title>1</title>\r\n",
       "<polygon fill=\"#e5823b\" stroke=\"black\" points=\"378.5,-365 274.5,-365 274.5,-297 378.5,-297 378.5,-365\"/>\r\n",
       "<text text-anchor=\"middle\" x=\"326.5\" y=\"-349.8\" font-family=\"Times New Roman,serif\" font-size=\"14.00\">X[1] &lt;= &#45;1.317</text>\r\n",
       "<text text-anchor=\"middle\" x=\"326.5\" y=\"-334.8\" font-family=\"Times New Roman,serif\" font-size=\"14.00\">samples = 489</text>\r\n",
       "<text text-anchor=\"middle\" x=\"326.5\" y=\"-319.8\" font-family=\"Times New Roman,serif\" font-size=\"14.00\">value = [484, 5]</text>\r\n",
       "<text text-anchor=\"middle\" x=\"326.5\" y=\"-304.8\" font-family=\"Times New Roman,serif\" font-size=\"14.00\">class = 0</text>\r\n",
       "</g>\r\n",
       "<!-- 0&#45;&gt;1 -->\r\n",
       "<g id=\"edge1\" class=\"edge\">\r\n",
       "<title>0&#45;&gt;1</title>\r\n",
       "<path fill=\"none\" stroke=\"black\" d=\"M401.46,-400.88C391.48,-391.71 380.53,-381.65 370.16,-372.12\"/>\r\n",
       "<polygon fill=\"black\" stroke=\"black\" points=\"372.47,-369.49 362.74,-365.3 367.73,-374.64 372.47,-369.49\"/>\r\n",
       "<text text-anchor=\"middle\" x=\"363.79\" y=\"-386.58\" font-family=\"Times New Roman,serif\" font-size=\"14.00\">True</text>\r\n",
       "</g>\r\n",
       "<!-- 12 -->\r\n",
       "<g id=\"node13\" class=\"node\">\r\n",
       "<title>12</title>\r\n",
       "<polygon fill=\"#e78946\" stroke=\"black\" points=\"587.5,-365 469.5,-365 469.5,-297 587.5,-297 587.5,-365\"/>\r\n",
       "<text text-anchor=\"middle\" x=\"528.5\" y=\"-349.8\" font-family=\"Times New Roman,serif\" font-size=\"14.00\">X[2] &lt;= &#45;0.658</text>\r\n",
       "<text text-anchor=\"middle\" x=\"528.5\" y=\"-334.8\" font-family=\"Times New Roman,serif\" font-size=\"14.00\">samples = 1188</text>\r\n",
       "<text text-anchor=\"middle\" x=\"528.5\" y=\"-319.8\" font-family=\"Times New Roman,serif\" font-size=\"14.00\">value = [1115, 73]</text>\r\n",
       "<text text-anchor=\"middle\" x=\"528.5\" y=\"-304.8\" font-family=\"Times New Roman,serif\" font-size=\"14.00\">class = 0</text>\r\n",
       "</g>\r\n",
       "<!-- 0&#45;&gt;12 -->\r\n",
       "<g id=\"edge12\" class=\"edge\">\r\n",
       "<title>0&#45;&gt;12</title>\r\n",
       "<path fill=\"none\" stroke=\"black\" d=\"M467.05,-400.88C474.99,-391.98 483.68,-382.24 491.96,-372.96\"/>\r\n",
       "<polygon fill=\"black\" stroke=\"black\" points=\"494.75,-375.09 498.79,-365.3 489.52,-370.43 494.75,-375.09\"/>\r\n",
       "<text text-anchor=\"middle\" x=\"500.21\" y=\"-386.56\" font-family=\"Times New Roman,serif\" font-size=\"14.00\">False</text>\r\n",
       "</g>\r\n",
       "<!-- 2 -->\r\n",
       "<g id=\"node3\" class=\"node\">\r\n",
       "<title>2</title>\r\n",
       "<polygon fill=\"#e78c4b\" stroke=\"black\" points=\"209,-261 108,-261 108,-193 209,-193 209,-261\"/>\r\n",
       "<text text-anchor=\"middle\" x=\"158.5\" y=\"-245.8\" font-family=\"Times New Roman,serif\" font-size=\"14.00\">X[3] &lt;= &#45;1.448</text>\r\n",
       "<text text-anchor=\"middle\" x=\"158.5\" y=\"-230.8\" font-family=\"Times New Roman,serif\" font-size=\"14.00\">samples = 12</text>\r\n",
       "<text text-anchor=\"middle\" x=\"158.5\" y=\"-215.8\" font-family=\"Times New Roman,serif\" font-size=\"14.00\">value = [11, 1]</text>\r\n",
       "<text text-anchor=\"middle\" x=\"158.5\" y=\"-200.8\" font-family=\"Times New Roman,serif\" font-size=\"14.00\">class = 0</text>\r\n",
       "</g>\r\n",
       "<!-- 1&#45;&gt;2 -->\r\n",
       "<g id=\"edge2\" class=\"edge\">\r\n",
       "<title>1&#45;&gt;2</title>\r\n",
       "<path fill=\"none\" stroke=\"black\" d=\"M274.26,-298.29C256.47,-287.48 236.44,-275.32 218.11,-264.19\"/>\r\n",
       "<polygon fill=\"black\" stroke=\"black\" points=\"219.63,-261.02 209.26,-258.82 215.99,-267 219.63,-261.02\"/>\r\n",
       "</g>\r\n",
       "<!-- 5 -->\r\n",
       "<g id=\"node6\" class=\"node\">\r\n",
       "<title>5</title>\r\n",
       "<polygon fill=\"#e5823b\" stroke=\"black\" points=\"378.5,-261 274.5,-261 274.5,-193 378.5,-193 378.5,-261\"/>\r\n",
       "<text text-anchor=\"middle\" x=\"326.5\" y=\"-245.8\" font-family=\"Times New Roman,serif\" font-size=\"14.00\">X[1] &lt;= 0.189</text>\r\n",
       "<text text-anchor=\"middle\" x=\"326.5\" y=\"-230.8\" font-family=\"Times New Roman,serif\" font-size=\"14.00\">samples = 477</text>\r\n",
       "<text text-anchor=\"middle\" x=\"326.5\" y=\"-215.8\" font-family=\"Times New Roman,serif\" font-size=\"14.00\">value = [473, 4]</text>\r\n",
       "<text text-anchor=\"middle\" x=\"326.5\" y=\"-200.8\" font-family=\"Times New Roman,serif\" font-size=\"14.00\">class = 0</text>\r\n",
       "</g>\r\n",
       "<!-- 1&#45;&gt;5 -->\r\n",
       "<g id=\"edge5\" class=\"edge\">\r\n",
       "<title>1&#45;&gt;5</title>\r\n",
       "<path fill=\"none\" stroke=\"black\" d=\"M326.5,-296.88C326.5,-288.78 326.5,-279.98 326.5,-271.47\"/>\r\n",
       "<polygon fill=\"black\" stroke=\"black\" points=\"330,-271.3 326.5,-261.3 323,-271.3 330,-271.3\"/>\r\n",
       "</g>\r\n",
       "<!-- 3 -->\r\n",
       "<g id=\"node4\" class=\"node\">\r\n",
       "<title>3</title>\r\n",
       "<polygon fill=\"#399de5\" stroke=\"black\" points=\"91,-149.5 0,-149.5 0,-96.5 91,-96.5 91,-149.5\"/>\r\n",
       "<text text-anchor=\"middle\" x=\"45.5\" y=\"-134.3\" font-family=\"Times New Roman,serif\" font-size=\"14.00\">samples = 1</text>\r\n",
       "<text text-anchor=\"middle\" x=\"45.5\" y=\"-119.3\" font-family=\"Times New Roman,serif\" font-size=\"14.00\">value = [0, 1]</text>\r\n",
       "<text text-anchor=\"middle\" x=\"45.5\" y=\"-104.3\" font-family=\"Times New Roman,serif\" font-size=\"14.00\">class = 1</text>\r\n",
       "</g>\r\n",
       "<!-- 2&#45;&gt;3 -->\r\n",
       "<g id=\"edge3\" class=\"edge\">\r\n",
       "<title>2&#45;&gt;3</title>\r\n",
       "<path fill=\"none\" stroke=\"black\" d=\"M121.81,-192.88C108.9,-181.23 94.4,-168.14 81.54,-156.53\"/>\r\n",
       "<polygon fill=\"black\" stroke=\"black\" points=\"83.54,-153.62 73.77,-149.52 78.85,-158.82 83.54,-153.62\"/>\r\n",
       "</g>\r\n",
       "<!-- 4 -->\r\n",
       "<g id=\"node5\" class=\"node\">\r\n",
       "<title>4</title>\r\n",
       "<polygon fill=\"#e58139\" stroke=\"black\" points=\"207.5,-149.5 109.5,-149.5 109.5,-96.5 207.5,-96.5 207.5,-149.5\"/>\r\n",
       "<text text-anchor=\"middle\" x=\"158.5\" y=\"-134.3\" font-family=\"Times New Roman,serif\" font-size=\"14.00\">samples = 11</text>\r\n",
       "<text text-anchor=\"middle\" x=\"158.5\" y=\"-119.3\" font-family=\"Times New Roman,serif\" font-size=\"14.00\">value = [11, 0]</text>\r\n",
       "<text text-anchor=\"middle\" x=\"158.5\" y=\"-104.3\" font-family=\"Times New Roman,serif\" font-size=\"14.00\">class = 0</text>\r\n",
       "</g>\r\n",
       "<!-- 2&#45;&gt;4 -->\r\n",
       "<g id=\"edge4\" class=\"edge\">\r\n",
       "<title>2&#45;&gt;4</title>\r\n",
       "<path fill=\"none\" stroke=\"black\" d=\"M158.5,-192.88C158.5,-182.33 158.5,-170.6 158.5,-159.85\"/>\r\n",
       "<polygon fill=\"black\" stroke=\"black\" points=\"162,-159.52 158.5,-149.52 155,-159.52 162,-159.52\"/>\r\n",
       "</g>\r\n",
       "<!-- 6 -->\r\n",
       "<g id=\"node7\" class=\"node\">\r\n",
       "<title>6</title>\r\n",
       "<polygon fill=\"#e5813a\" stroke=\"black\" points=\"329.5,-157 225.5,-157 225.5,-89 329.5,-89 329.5,-157\"/>\r\n",
       "<text text-anchor=\"middle\" x=\"277.5\" y=\"-141.8\" font-family=\"Times New Roman,serif\" font-size=\"14.00\">X[3] &lt;= &#45;1.148</text>\r\n",
       "<text text-anchor=\"middle\" x=\"277.5\" y=\"-126.8\" font-family=\"Times New Roman,serif\" font-size=\"14.00\">samples = 306</text>\r\n",
       "<text text-anchor=\"middle\" x=\"277.5\" y=\"-111.8\" font-family=\"Times New Roman,serif\" font-size=\"14.00\">value = [305, 1]</text>\r\n",
       "<text text-anchor=\"middle\" x=\"277.5\" y=\"-96.8\" font-family=\"Times New Roman,serif\" font-size=\"14.00\">class = 0</text>\r\n",
       "</g>\r\n",
       "<!-- 5&#45;&gt;6 -->\r\n",
       "<g id=\"edge6\" class=\"edge\">\r\n",
       "<title>5&#45;&gt;6</title>\r\n",
       "<path fill=\"none\" stroke=\"black\" d=\"M310.59,-192.88C306.53,-184.42 302.1,-175.21 297.85,-166.35\"/>\r\n",
       "<polygon fill=\"black\" stroke=\"black\" points=\"300.98,-164.8 293.5,-157.3 294.67,-167.83 300.98,-164.8\"/>\r\n",
       "</g>\r\n",
       "<!-- 9 -->\r\n",
       "<g id=\"node10\" class=\"node\">\r\n",
       "<title>9</title>\r\n",
       "<polygon fill=\"#e5833d\" stroke=\"black\" points=\"451.5,-157 347.5,-157 347.5,-89 451.5,-89 451.5,-157\"/>\r\n",
       "<text text-anchor=\"middle\" x=\"399.5\" y=\"-141.8\" font-family=\"Times New Roman,serif\" font-size=\"14.00\">X[1] &lt;= 0.191</text>\r\n",
       "<text text-anchor=\"middle\" x=\"399.5\" y=\"-126.8\" font-family=\"Times New Roman,serif\" font-size=\"14.00\">samples = 171</text>\r\n",
       "<text text-anchor=\"middle\" x=\"399.5\" y=\"-111.8\" font-family=\"Times New Roman,serif\" font-size=\"14.00\">value = [168, 3]</text>\r\n",
       "<text text-anchor=\"middle\" x=\"399.5\" y=\"-96.8\" font-family=\"Times New Roman,serif\" font-size=\"14.00\">class = 0</text>\r\n",
       "</g>\r\n",
       "<!-- 5&#45;&gt;9 -->\r\n",
       "<g id=\"edge9\" class=\"edge\">\r\n",
       "<title>5&#45;&gt;9</title>\r\n",
       "<path fill=\"none\" stroke=\"black\" d=\"M350.2,-192.88C356.45,-184.15 363.27,-174.62 369.79,-165.51\"/>\r\n",
       "<polygon fill=\"black\" stroke=\"black\" points=\"372.69,-167.47 375.67,-157.3 367,-163.39 372.69,-167.47\"/>\r\n",
       "</g>\r\n",
       "<!-- 7 -->\r\n",
       "<g id=\"node8\" class=\"node\">\r\n",
       "<title>7</title>\r\n",
       "<polygon fill=\"#e6833d\" stroke=\"black\" points=\"207.5,-53 109.5,-53 109.5,0 207.5,0 207.5,-53\"/>\r\n",
       "<text text-anchor=\"middle\" x=\"158.5\" y=\"-37.8\" font-family=\"Times New Roman,serif\" font-size=\"14.00\">samples = 53</text>\r\n",
       "<text text-anchor=\"middle\" x=\"158.5\" y=\"-22.8\" font-family=\"Times New Roman,serif\" font-size=\"14.00\">value = [52, 1]</text>\r\n",
       "<text text-anchor=\"middle\" x=\"158.5\" y=\"-7.8\" font-family=\"Times New Roman,serif\" font-size=\"14.00\">class = 0</text>\r\n",
       "</g>\r\n",
       "<!-- 6&#45;&gt;7 -->\r\n",
       "<g id=\"edge7\" class=\"edge\">\r\n",
       "<title>6&#45;&gt;7</title>\r\n",
       "<path fill=\"none\" stroke=\"black\" d=\"M235.88,-88.95C223.9,-79.43 210.85,-69.07 198.94,-59.62\"/>\r\n",
       "<polygon fill=\"black\" stroke=\"black\" points=\"200.92,-56.71 190.91,-53.24 196.56,-62.2 200.92,-56.71\"/>\r\n",
       "</g>\r\n",
       "<!-- 8 -->\r\n",
       "<g id=\"node9\" class=\"node\">\r\n",
       "<title>8</title>\r\n",
       "<polygon fill=\"#e58139\" stroke=\"black\" points=\"329.5,-53 225.5,-53 225.5,0 329.5,0 329.5,-53\"/>\r\n",
       "<text text-anchor=\"middle\" x=\"277.5\" y=\"-37.8\" font-family=\"Times New Roman,serif\" font-size=\"14.00\">samples = 253</text>\r\n",
       "<text text-anchor=\"middle\" x=\"277.5\" y=\"-22.8\" font-family=\"Times New Roman,serif\" font-size=\"14.00\">value = [253, 0]</text>\r\n",
       "<text text-anchor=\"middle\" x=\"277.5\" y=\"-7.8\" font-family=\"Times New Roman,serif\" font-size=\"14.00\">class = 0</text>\r\n",
       "</g>\r\n",
       "<!-- 6&#45;&gt;8 -->\r\n",
       "<g id=\"edge8\" class=\"edge\">\r\n",
       "<title>6&#45;&gt;8</title>\r\n",
       "<path fill=\"none\" stroke=\"black\" d=\"M277.5,-88.95C277.5,-80.72 277.5,-71.85 277.5,-63.48\"/>\r\n",
       "<polygon fill=\"black\" stroke=\"black\" points=\"281,-63.24 277.5,-53.24 274,-63.24 281,-63.24\"/>\r\n",
       "</g>\r\n",
       "<!-- 10 -->\r\n",
       "<g id=\"node11\" class=\"node\">\r\n",
       "<title>10</title>\r\n",
       "<polygon fill=\"#eeab7b\" stroke=\"black\" points=\"439,-53 348,-53 348,0 439,0 439,-53\"/>\r\n",
       "<text text-anchor=\"middle\" x=\"393.5\" y=\"-37.8\" font-family=\"Times New Roman,serif\" font-size=\"14.00\">samples = 4</text>\r\n",
       "<text text-anchor=\"middle\" x=\"393.5\" y=\"-22.8\" font-family=\"Times New Roman,serif\" font-size=\"14.00\">value = [3, 1]</text>\r\n",
       "<text text-anchor=\"middle\" x=\"393.5\" y=\"-7.8\" font-family=\"Times New Roman,serif\" font-size=\"14.00\">class = 0</text>\r\n",
       "</g>\r\n",
       "<!-- 9&#45;&gt;10 -->\r\n",
       "<g id=\"edge10\" class=\"edge\">\r\n",
       "<title>9&#45;&gt;10</title>\r\n",
       "<path fill=\"none\" stroke=\"black\" d=\"M397.4,-88.95C396.88,-80.72 396.32,-71.85 395.78,-63.48\"/>\r\n",
       "<polygon fill=\"black\" stroke=\"black\" points=\"399.26,-62.99 395.13,-53.24 392.27,-63.44 399.26,-62.99\"/>\r\n",
       "</g>\r\n",
       "<!-- 11 -->\r\n",
       "<g id=\"node12\" class=\"node\">\r\n",
       "<title>11</title>\r\n",
       "<polygon fill=\"#e5833b\" stroke=\"black\" points=\"561.5,-53 457.5,-53 457.5,0 561.5,0 561.5,-53\"/>\r\n",
       "<text text-anchor=\"middle\" x=\"509.5\" y=\"-37.8\" font-family=\"Times New Roman,serif\" font-size=\"14.00\">samples = 167</text>\r\n",
       "<text text-anchor=\"middle\" x=\"509.5\" y=\"-22.8\" font-family=\"Times New Roman,serif\" font-size=\"14.00\">value = [165, 2]</text>\r\n",
       "<text text-anchor=\"middle\" x=\"509.5\" y=\"-7.8\" font-family=\"Times New Roman,serif\" font-size=\"14.00\">class = 0</text>\r\n",
       "</g>\r\n",
       "<!-- 9&#45;&gt;11 -->\r\n",
       "<g id=\"edge11\" class=\"edge\">\r\n",
       "<title>9&#45;&gt;11</title>\r\n",
       "<path fill=\"none\" stroke=\"black\" d=\"M437.97,-88.95C448.94,-79.53 460.88,-69.27 471.8,-59.89\"/>\r\n",
       "<polygon fill=\"black\" stroke=\"black\" points=\"474.24,-62.41 479.54,-53.24 469.68,-57.1 474.24,-62.41\"/>\r\n",
       "</g>\r\n",
       "<!-- 13 -->\r\n",
       "<g id=\"node14\" class=\"node\">\r\n",
       "<title>13</title>\r\n",
       "<polygon fill=\"#399de5\" stroke=\"black\" points=\"574,-253.5 483,-253.5 483,-200.5 574,-200.5 574,-253.5\"/>\r\n",
       "<text text-anchor=\"middle\" x=\"528.5\" y=\"-238.3\" font-family=\"Times New Roman,serif\" font-size=\"14.00\">samples = 1</text>\r\n",
       "<text text-anchor=\"middle\" x=\"528.5\" y=\"-223.3\" font-family=\"Times New Roman,serif\" font-size=\"14.00\">value = [0, 1]</text>\r\n",
       "<text text-anchor=\"middle\" x=\"528.5\" y=\"-208.3\" font-family=\"Times New Roman,serif\" font-size=\"14.00\">class = 1</text>\r\n",
       "</g>\r\n",
       "<!-- 12&#45;&gt;13 -->\r\n",
       "<g id=\"edge13\" class=\"edge\">\r\n",
       "<title>12&#45;&gt;13</title>\r\n",
       "<path fill=\"none\" stroke=\"black\" d=\"M528.5,-296.88C528.5,-286.33 528.5,-274.6 528.5,-263.85\"/>\r\n",
       "<polygon fill=\"black\" stroke=\"black\" points=\"532,-263.52 528.5,-253.52 525,-263.52 532,-263.52\"/>\r\n",
       "</g>\r\n",
       "<!-- 14 -->\r\n",
       "<g id=\"node15\" class=\"node\">\r\n",
       "<title>14</title>\r\n",
       "<polygon fill=\"#e78946\" stroke=\"black\" points=\"733.5,-261 615.5,-261 615.5,-193 733.5,-193 733.5,-261\"/>\r\n",
       "<text text-anchor=\"middle\" x=\"674.5\" y=\"-245.8\" font-family=\"Times New Roman,serif\" font-size=\"14.00\">X[0] &lt;= &#45;0.452</text>\r\n",
       "<text text-anchor=\"middle\" x=\"674.5\" y=\"-230.8\" font-family=\"Times New Roman,serif\" font-size=\"14.00\">samples = 1187</text>\r\n",
       "<text text-anchor=\"middle\" x=\"674.5\" y=\"-215.8\" font-family=\"Times New Roman,serif\" font-size=\"14.00\">value = [1115, 72]</text>\r\n",
       "<text text-anchor=\"middle\" x=\"674.5\" y=\"-200.8\" font-family=\"Times New Roman,serif\" font-size=\"14.00\">class = 0</text>\r\n",
       "</g>\r\n",
       "<!-- 12&#45;&gt;14 -->\r\n",
       "<g id=\"edge14\" class=\"edge\">\r\n",
       "<title>12&#45;&gt;14</title>\r\n",
       "<path fill=\"none\" stroke=\"black\" d=\"M575.9,-296.88C589.42,-287.44 604.27,-277.06 618.26,-267.29\"/>\r\n",
       "<polygon fill=\"black\" stroke=\"black\" points=\"620.64,-269.9 626.84,-261.3 616.63,-264.16 620.64,-269.9\"/>\r\n",
       "</g>\r\n",
       "<!-- 15 -->\r\n",
       "<g id=\"node16\" class=\"node\">\r\n",
       "<title>15</title>\r\n",
       "<polygon fill=\"#eca06a\" stroke=\"black\" points=\"725,-157 624,-157 624,-89 725,-89 725,-157\"/>\r\n",
       "<text text-anchor=\"middle\" x=\"674.5\" y=\"-141.8\" font-family=\"Times New Roman,serif\" font-size=\"14.00\">X[2] &lt;= &#45;0.451</text>\r\n",
       "<text text-anchor=\"middle\" x=\"674.5\" y=\"-126.8\" font-family=\"Times New Roman,serif\" font-size=\"14.00\">samples = 30</text>\r\n",
       "<text text-anchor=\"middle\" x=\"674.5\" y=\"-111.8\" font-family=\"Times New Roman,serif\" font-size=\"14.00\">value = [24, 6]</text>\r\n",
       "<text text-anchor=\"middle\" x=\"674.5\" y=\"-96.8\" font-family=\"Times New Roman,serif\" font-size=\"14.00\">class = 0</text>\r\n",
       "</g>\r\n",
       "<!-- 14&#45;&gt;15 -->\r\n",
       "<g id=\"edge15\" class=\"edge\">\r\n",
       "<title>14&#45;&gt;15</title>\r\n",
       "<path fill=\"none\" stroke=\"black\" d=\"M674.5,-192.88C674.5,-184.78 674.5,-175.98 674.5,-167.47\"/>\r\n",
       "<polygon fill=\"black\" stroke=\"black\" points=\"678,-167.3 674.5,-157.3 671,-167.3 678,-167.3\"/>\r\n",
       "</g>\r\n",
       "<!-- 18 -->\r\n",
       "<g id=\"node19\" class=\"node\">\r\n",
       "<title>18</title>\r\n",
       "<polygon fill=\"#e78945\" stroke=\"black\" points=\"910.5,-157 792.5,-157 792.5,-89 910.5,-89 910.5,-157\"/>\r\n",
       "<text text-anchor=\"middle\" x=\"851.5\" y=\"-141.8\" font-family=\"Times New Roman,serif\" font-size=\"14.00\">X[3] &lt;= &#45;3.484</text>\r\n",
       "<text text-anchor=\"middle\" x=\"851.5\" y=\"-126.8\" font-family=\"Times New Roman,serif\" font-size=\"14.00\">samples = 1157</text>\r\n",
       "<text text-anchor=\"middle\" x=\"851.5\" y=\"-111.8\" font-family=\"Times New Roman,serif\" font-size=\"14.00\">value = [1091, 66]</text>\r\n",
       "<text text-anchor=\"middle\" x=\"851.5\" y=\"-96.8\" font-family=\"Times New Roman,serif\" font-size=\"14.00\">class = 0</text>\r\n",
       "</g>\r\n",
       "<!-- 14&#45;&gt;18 -->\r\n",
       "<g id=\"edge18\" class=\"edge\">\r\n",
       "<title>14&#45;&gt;18</title>\r\n",
       "<path fill=\"none\" stroke=\"black\" d=\"M731.97,-192.88C748.9,-183.12 767.57,-172.37 785.02,-162.31\"/>\r\n",
       "<polygon fill=\"black\" stroke=\"black\" points=\"787.1,-165.15 794.02,-157.12 783.61,-159.09 787.1,-165.15\"/>\r\n",
       "</g>\r\n",
       "<!-- 16 -->\r\n",
       "<g id=\"node17\" class=\"node\">\r\n",
       "<title>16</title>\r\n",
       "<polygon fill=\"#cee6f8\" stroke=\"black\" points=\"671,-53 580,-53 580,0 671,0 671,-53\"/>\r\n",
       "<text text-anchor=\"middle\" x=\"625.5\" y=\"-37.8\" font-family=\"Times New Roman,serif\" font-size=\"14.00\">samples = 7</text>\r\n",
       "<text text-anchor=\"middle\" x=\"625.5\" y=\"-22.8\" font-family=\"Times New Roman,serif\" font-size=\"14.00\">value = [3, 4]</text>\r\n",
       "<text text-anchor=\"middle\" x=\"625.5\" y=\"-7.8\" font-family=\"Times New Roman,serif\" font-size=\"14.00\">class = 1</text>\r\n",
       "</g>\r\n",
       "<!-- 15&#45;&gt;16 -->\r\n",
       "<g id=\"edge16\" class=\"edge\">\r\n",
       "<title>15&#45;&gt;16</title>\r\n",
       "<path fill=\"none\" stroke=\"black\" d=\"M657.36,-88.95C652.9,-80.35 648.09,-71.06 643.58,-62.37\"/>\r\n",
       "<polygon fill=\"black\" stroke=\"black\" points=\"646.56,-60.5 638.84,-53.24 640.34,-63.73 646.56,-60.5\"/>\r\n",
       "</g>\r\n",
       "<!-- 17 -->\r\n",
       "<g id=\"node18\" class=\"node\">\r\n",
       "<title>17</title>\r\n",
       "<polygon fill=\"#e78d4c\" stroke=\"black\" points=\"787.5,-53 689.5,-53 689.5,0 787.5,0 787.5,-53\"/>\r\n",
       "<text text-anchor=\"middle\" x=\"738.5\" y=\"-37.8\" font-family=\"Times New Roman,serif\" font-size=\"14.00\">samples = 23</text>\r\n",
       "<text text-anchor=\"middle\" x=\"738.5\" y=\"-22.8\" font-family=\"Times New Roman,serif\" font-size=\"14.00\">value = [21, 2]</text>\r\n",
       "<text text-anchor=\"middle\" x=\"738.5\" y=\"-7.8\" font-family=\"Times New Roman,serif\" font-size=\"14.00\">class = 0</text>\r\n",
       "</g>\r\n",
       "<!-- 15&#45;&gt;17 -->\r\n",
       "<g id=\"edge17\" class=\"edge\">\r\n",
       "<title>15&#45;&gt;17</title>\r\n",
       "<path fill=\"none\" stroke=\"black\" d=\"M696.88,-88.95C702.89,-80.07 709.4,-70.46 715.45,-61.54\"/>\r\n",
       "<polygon fill=\"black\" stroke=\"black\" points=\"718.36,-63.48 721.07,-53.24 712.56,-59.55 718.36,-63.48\"/>\r\n",
       "</g>\r\n",
       "<!-- 19 -->\r\n",
       "<g id=\"node20\" class=\"node\">\r\n",
       "<title>19</title>\r\n",
       "<polygon fill=\"#ffffff\" stroke=\"black\" points=\"897,-53 806,-53 806,0 897,0 897,-53\"/>\r\n",
       "<text text-anchor=\"middle\" x=\"851.5\" y=\"-37.8\" font-family=\"Times New Roman,serif\" font-size=\"14.00\">samples = 2</text>\r\n",
       "<text text-anchor=\"middle\" x=\"851.5\" y=\"-22.8\" font-family=\"Times New Roman,serif\" font-size=\"14.00\">value = [1, 1]</text>\r\n",
       "<text text-anchor=\"middle\" x=\"851.5\" y=\"-7.8\" font-family=\"Times New Roman,serif\" font-size=\"14.00\">class = 0</text>\r\n",
       "</g>\r\n",
       "<!-- 18&#45;&gt;19 -->\r\n",
       "<g id=\"edge19\" class=\"edge\">\r\n",
       "<title>18&#45;&gt;19</title>\r\n",
       "<path fill=\"none\" stroke=\"black\" d=\"M851.5,-88.95C851.5,-80.72 851.5,-71.85 851.5,-63.48\"/>\r\n",
       "<polygon fill=\"black\" stroke=\"black\" points=\"855,-63.24 851.5,-53.24 848,-63.24 855,-63.24\"/>\r\n",
       "</g>\r\n",
       "<!-- 20 -->\r\n",
       "<g id=\"node21\" class=\"node\">\r\n",
       "<title>20</title>\r\n",
       "<polygon fill=\"#e78945\" stroke=\"black\" points=\"1033.5,-53 915.5,-53 915.5,0 1033.5,0 1033.5,-53\"/>\r\n",
       "<text text-anchor=\"middle\" x=\"974.5\" y=\"-37.8\" font-family=\"Times New Roman,serif\" font-size=\"14.00\">samples = 1155</text>\r\n",
       "<text text-anchor=\"middle\" x=\"974.5\" y=\"-22.8\" font-family=\"Times New Roman,serif\" font-size=\"14.00\">value = [1090, 65]</text>\r\n",
       "<text text-anchor=\"middle\" x=\"974.5\" y=\"-7.8\" font-family=\"Times New Roman,serif\" font-size=\"14.00\">class = 0</text>\r\n",
       "</g>\r\n",
       "<!-- 18&#45;&gt;20 -->\r\n",
       "<g id=\"edge20\" class=\"edge\">\r\n",
       "<title>18&#45;&gt;20</title>\r\n",
       "<path fill=\"none\" stroke=\"black\" d=\"M894.52,-88.95C907.02,-79.34 920.65,-68.87 933.05,-59.34\"/>\r\n",
       "<polygon fill=\"black\" stroke=\"black\" points=\"935.2,-62.1 941,-53.24 930.94,-56.55 935.2,-62.1\"/>\r\n",
       "</g>\r\n",
       "</g>\r\n",
       "</svg>\r\n"
      ],
      "text/plain": [
       "<graphviz.files.Source at 0x17f3bb28e88>"
      ]
     },
     "metadata": {},
     "output_type": "display_data"
    },
    {
     "data": {
      "text/plain": [
       "'tree.png.pdf'"
      ]
     },
     "execution_count": 13,
     "metadata": {},
     "output_type": "execute_result"
    }
   ],
   "source": [
    "import graphviz\n",
    "\n",
    "import os\n",
    "os.environ[\"PATH\"]+=os.pathsep+'C:/Program Files/Graphviz/bin/'\n",
    "\n",
    "with open(\"tree.dot\") as f:\n",
    "    dot_graph = f.read()\n",
    "display(graphviz.Source(dot_graph))\n",
    "\n",
    "dot = graphviz.Source(dot_graph) # dot_graph의 source 저장\n",
    "\n",
    "dot.render(filename='tree.png') # png로 저장\n",
    "\n"
   ]
  },
  {
   "cell_type": "markdown",
   "metadata": {},
   "source": [
    "## cross-validation"
   ]
  },
  {
   "cell_type": "code",
   "execution_count": 26,
   "metadata": {
    "ExecuteTime": {
     "end_time": "2021-07-03T16:19:11.350964Z",
     "start_time": "2021-07-03T16:19:11.323039Z"
    }
   },
   "outputs": [
    {
     "name": "stdout",
     "output_type": "stream",
     "text": [
      "교차 검증별 정확도: [0.9492 0.9524 0.9428]\n",
      "평균 검증 정확도: 0.9481\n"
     ]
    }
   ],
   "source": [
    "from sklearn.model_selection import cross_val_score, cross_validate\n",
    "\n",
    "score = cross_val_score(tree, X, Y, scoring='accuracy', cv=3)\n",
    "\n",
    "print('교차 검증별 정확도:', np.round(score, 4))\n",
    "print('평균 검증 정확도:', np.round(np.mean(score), 4))\n"
   ]
  },
  {
   "cell_type": "markdown",
   "metadata": {},
   "source": [
    "# 랜덤 포레스트"
   ]
  },
  {
   "cell_type": "code",
   "execution_count": 27,
   "metadata": {
    "ExecuteTime": {
     "end_time": "2021-07-03T16:19:17.441490Z",
     "start_time": "2021-07-03T16:19:17.386585Z"
    }
   },
   "outputs": [],
   "source": [
    "from sklearn.ensemble import RandomForestClassifier\n"
   ]
  },
  {
   "cell_type": "code",
   "execution_count": 28,
   "metadata": {
    "ExecuteTime": {
     "end_time": "2021-07-03T16:19:18.339935Z",
     "start_time": "2021-07-03T16:19:18.092607Z"
    },
    "scrolled": true
   },
   "outputs": [
    {
     "name": "stdout",
     "output_type": "stream",
     "text": [
      "훈련 세트 정확도: 1.000\n",
      "테스트 세트 정확도: 0.931\n"
     ]
    }
   ],
   "source": [
    "forest = RandomForestClassifier(n_estimators=100, random_state=0)\n",
    "forest.fit(X_train, Y_train)\n",
    "\n",
    "print(\"훈련 세트 정확도: {:.3f}\".format(forest.score(X_train, Y_train)))\n",
    "print(\"테스트 세트 정확도: {:.3f}\".format(forest.score(X_test, Y_test)))\n"
   ]
  },
  {
   "cell_type": "code",
   "execution_count": 29,
   "metadata": {
    "ExecuteTime": {
     "end_time": "2021-07-03T16:19:23.103240Z",
     "start_time": "2021-07-03T16:19:23.084291Z"
    },
    "scrolled": true
   },
   "outputs": [
    {
     "name": "stdout",
     "output_type": "stream",
     "text": [
      "특성 중요도:\n",
      "[0.2044624  0.19212199 0.27135732 0.33205829]\n"
     ]
    }
   ],
   "source": [
    "print(\"특성 중요도:\\n{}\".format(forest.feature_importances_))\n"
   ]
  },
  {
   "cell_type": "markdown",
   "metadata": {},
   "source": [
    "## cross-validation"
   ]
  },
  {
   "cell_type": "code",
   "execution_count": 30,
   "metadata": {
    "ExecuteTime": {
     "end_time": "2021-07-03T16:19:25.942959Z",
     "start_time": "2021-07-03T16:19:25.377605Z"
    }
   },
   "outputs": [
    {
     "name": "stdout",
     "output_type": "stream",
     "text": [
      "교차 검증별 정확도: [0.954  0.9508 0.9507]\n",
      "평균 검증 정확도: 0.9518\n"
     ]
    }
   ],
   "source": [
    "from sklearn.model_selection import cross_val_score, cross_validate\n",
    "\n",
    "score = cross_val_score(forest, X, Y, scoring='accuracy', cv=3)\n",
    "\n",
    "print('교차 검증별 정확도:', np.round(score, 4))\n",
    "print('평균 검증 정확도:', np.round(np.mean(score), 4))\n"
   ]
  },
  {
   "cell_type": "markdown",
   "metadata": {},
   "source": [
    "# 그래디언트 부스팅"
   ]
  },
  {
   "cell_type": "code",
   "execution_count": 31,
   "metadata": {
    "ExecuteTime": {
     "end_time": "2021-07-03T16:19:28.395661Z",
     "start_time": "2021-07-03T16:19:28.377739Z"
    }
   },
   "outputs": [],
   "source": [
    "from sklearn.ensemble import GradientBoostingClassifier"
   ]
  },
  {
   "cell_type": "code",
   "execution_count": 32,
   "metadata": {
    "ExecuteTime": {
     "end_time": "2021-07-03T16:19:28.926023Z",
     "start_time": "2021-07-03T16:19:28.730786Z"
    },
    "scrolled": true
   },
   "outputs": [
    {
     "name": "stdout",
     "output_type": "stream",
     "text": [
      "훈련 세트 정확도: 0.975\n",
      "테스트 세트 정확도: 0.931\n"
     ]
    }
   ],
   "source": [
    "gbrt = GradientBoostingClassifier(random_state=0)  #기본값 : 트리 100개, 학습률 0.11\n",
    "gbrt.fit(X_train, Y_train)\n",
    "\n",
    "print(\"훈련 세트 정확도: {:.3f}\".format(gbrt.score(X_train, Y_train)))\n",
    "print(\"테스트 세트 정확도: {:.3f}\".format(gbrt.score(X_test, Y_test)))\n"
   ]
  },
  {
   "cell_type": "code",
   "execution_count": 35,
   "metadata": {
    "ExecuteTime": {
     "end_time": "2021-07-03T16:20:00.181316Z",
     "start_time": "2021-07-03T16:20:00.168351Z"
    }
   },
   "outputs": [
    {
     "name": "stdout",
     "output_type": "stream",
     "text": [
      "특성 중요도:\n",
      "[0.14908434 0.0797548  0.29204042 0.47912044]\n"
     ]
    }
   ],
   "source": [
    "print(\"특성 중요도:\\n{}\".format(gbrt.feature_importances_))\n"
   ]
  },
  {
   "cell_type": "markdown",
   "metadata": {},
   "source": [
    "## cross-validation"
   ]
  },
  {
   "cell_type": "code",
   "execution_count": 34,
   "metadata": {
    "ExecuteTime": {
     "end_time": "2021-07-03T16:19:56.807224Z",
     "start_time": "2021-07-03T16:19:56.372464Z"
    }
   },
   "outputs": [
    {
     "name": "stdout",
     "output_type": "stream",
     "text": [
      "교차 검증별 정확도: [0.9492 0.946  0.9444]\n",
      "평균 검증 정확도: 0.9465\n"
     ]
    }
   ],
   "source": [
    "from sklearn.model_selection import cross_val_score, cross_validate\n",
    "\n",
    "score = cross_val_score(gbrt, X, Y, scoring='accuracy', cv=3)\n",
    "\n",
    "print('교차 검증별 정확도:', np.round(score, 4))\n",
    "print('평균 검증 정확도:', np.round(np.mean(score), 4))\n"
   ]
  },
  {
   "cell_type": "markdown",
   "metadata": {
    "ExecuteTime": {
     "end_time": "2021-07-01T05:23:47.275056Z",
     "start_time": "2021-07-01T05:23:47.269072Z"
    }
   },
   "source": [
    "# SVM 소프트벡터 머신"
   ]
  },
  {
   "cell_type": "code",
   "execution_count": 36,
   "metadata": {
    "ExecuteTime": {
     "end_time": "2021-07-03T16:20:02.465290Z",
     "start_time": "2021-07-03T16:20:02.449333Z"
    }
   },
   "outputs": [],
   "source": [
    "from sklearn.svm import SVC\n"
   ]
  },
  {
   "cell_type": "markdown",
   "metadata": {},
   "source": [
    "#### C 가 커질수록 제약이 작아지고 데이터 포인터들의 영향력이 커진다.\n",
    "#### Gamma 가 커질수록 경계와 포인트의 거리가 줄어들고 모델의 복잡도가 커진다."
   ]
  },
  {
   "cell_type": "code",
   "execution_count": 37,
   "metadata": {
    "ExecuteTime": {
     "end_time": "2021-07-03T16:20:03.396467Z",
     "start_time": "2021-07-03T16:20:03.344324Z"
    }
   },
   "outputs": [
    {
     "name": "stdout",
     "output_type": "stream",
     "text": [
      "훈련 세트 정확도: 0.96\n",
      "테스트 세트 정확도: 0.94\n"
     ]
    }
   ],
   "source": [
    "svc = SVC()\n",
    "svc.fit(X_train, Y_train)  #기본값 C=1, gamma=1/n_features\n",
    "\n",
    "print(\"훈련 세트 정확도: {:.2f}\".format(svc.score(X_train, Y_train)))\n",
    "print(\"테스트 세트 정확도: {:.2f}\".format(svc.score(X_test, Y_test)))\n"
   ]
  },
  {
   "cell_type": "markdown",
   "metadata": {
    "ExecuteTime": {
     "end_time": "2021-07-03T15:58:31.683601Z",
     "start_time": "2021-07-03T15:58:31.667645Z"
    }
   },
   "source": [
    "# 군집화"
   ]
  },
  {
   "cell_type": "code",
   "execution_count": 45,
   "metadata": {
    "ExecuteTime": {
     "end_time": "2021-07-03T16:20:34.500310Z",
     "start_time": "2021-07-03T16:20:34.414543Z"
    }
   },
   "outputs": [],
   "source": [
    "from sklearn.cluster import KMeans\n",
    "k_means = KMeans(n_clusters=5, random_state=0)\n",
    "\n",
    "k_means.fit(X)\n",
    "\n",
    "y_pred = k_means.labels_\n",
    "\n",
    "\n",
    "\n"
   ]
  },
  {
   "cell_type": "code",
   "execution_count": 46,
   "metadata": {
    "ExecuteTime": {
     "end_time": "2021-07-03T16:20:34.794690Z",
     "start_time": "2021-07-03T16:20:34.790673Z"
    }
   },
   "outputs": [],
   "source": [
    "import matplotlib.pyplot as plt\n"
   ]
  },
  {
   "cell_type": "code",
   "execution_count": 47,
   "metadata": {
    "ExecuteTime": {
     "end_time": "2021-07-03T16:20:35.384741Z",
     "start_time": "2021-07-03T16:20:35.157322Z"
    }
   },
   "outputs": [
    {
     "data": {
      "image/png": "[encoded data removed]",
      "text/plain": [
       "<Figure size 432x288 with 1 Axes>"
      ]
     },
     "metadata": {
      "needs_background": "light"
     },
     "output_type": "display_data"
    }
   ],
   "source": [
    "from sklearn.decomposition import PCA\n",
    "\n",
    "pca = PCA(n_components=3)\n",
    "kunka = pca.fit_transform(X)\n",
    "\n",
    "plt.scatter(kunka[:, 0], kunka[:, 1], c=y_pred, cmap=plt.cm.Set1)\n",
    "plt.show()\n"
   ]
  },
  {
   "cell_type": "code",
   "execution_count": null,
   "metadata": {
    "ExecuteTime": {
     "end_time": "2021-07-03T16:11:23.681276Z",
     "start_time": "2021-07-03T16:11:23.672344Z"
    }
   },
   "outputs": [],
   "source": []
  },
  {
   "cell_type": "code",
   "execution_count": null,
   "metadata": {},
   "outputs": [],
   "source": []
  }
 ],
 "metadata": {
  "kernelspec": {
   "display_name": "Python 3",
   "language": "python",
   "name": "python3"
  },
  "language_info": {
   "codemirror_mode": {
    "name": "ipython",
    "version": 3
   },
   "file_extension": ".py",
   "mimetype": "text/x-python",
   "name": "python",
   "nbconvert_exporter": "python",
   "pygments_lexer": "ipython3",
   "version": "3.7.9"
  },
  "toc": {
   "base_numbering": 1,
   "nav_menu": {},
   "number_sections": true,
   "sideBar": true,
   "skip_h1_title": false,
   "title_cell": "Table of Contents",
   "title_sidebar": "Contents",
   "toc_cell": false,
   "toc_position": {},
   "toc_section_display": true,
   "toc_window_display": false
  },
  "varInspector": {
   "cols": {
    "lenName": 16,
    "lenType": 16,
    "lenVar": 40
   },
   "kernels_config": {
    "python": {
     "delete_cmd_postfix": "",
     "delete_cmd_prefix": "del ",
     "library": "var_list.py",
     "varRefreshCmd": "print(var_dic_list())"
    },
    "r": {
     "delete_cmd_postfix": ") ",
     "delete_cmd_prefix": "rm(",
     "library": "var_list.r",
     "varRefreshCmd": "cat(var_dic_list()) "
    }
   },
   "types_to_exclude": [
    "module",
    "function",
    "builtin_function_or_method",
    "instance",
    "_Feature"
   ],
   "window_display": false
  }
 },
 "nbformat": 4,
 "nbformat_minor": 4
}
