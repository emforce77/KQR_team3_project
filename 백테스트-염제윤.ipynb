{
 "cells": [
  {
   "cell_type": "code",
   "execution_count": null,
   "metadata": {},
   "outputs": [],
   "source": [
    "## 모듈 불러오기"
   ]
  },
  {
   "cell_type": "code",
   "execution_count": 3,
   "metadata": {
    "ExecuteTime": {
     "end_time": "2021-07-05T10:22:04.793123Z",
     "start_time": "2021-07-05T10:22:04.685974Z"
    }
   },
   "outputs": [],
   "source": [
    "from pykrx import stock\n",
    "import pandas as pd\n",
    "import numpy as np\n",
    "from pandas import Series\n",
    "from tqdm import tqdm\n",
    "from tqdm import notebook\n",
    "import seaborn as sns\n",
    "import plotly.express as px\n",
    "import matplotlib.pyplot as plt\n",
    "import matplotlib as mpl\n",
    "import time\n"
   ]
  },
  {
   "cell_type": "code",
   "execution_count": null,
   "metadata": {},
   "outputs": [],
   "source": [
    "#머신러닝, 딥러닝 모듈 불러오기"
   ]
  },
  {
   "cell_type": "code",
   "execution_count": null,
   "metadata": {
    "ExecuteTime": {
     "end_time": "2021-07-05T10:08:08.903233Z",
     "start_time": "2021-07-05T10:07:15.113487Z"
    }
   },
   "outputs": [],
   "source": [
    "# 딥러닝 모듈\n",
    "from keras.models import load_model\n",
    "\n",
    "deep_model = load_model('딥러닝모델')\n",
    "\n",
    "\n",
    "# 머신러닝 모듈\n",
    "import joblib\n",
    "\n",
    "ml_model = joblib.load('머신러닝모델')\n"
   ]
  },
  {
   "cell_type": "code",
   "execution_count": null,
   "metadata": {},
   "outputs": [],
   "source": [
    "# 백테스팅을 위한 X데이터 불러오기 (X데이터는 딥러닝 예측 모델의 구현에 이용된다.)\n",
    "\n",
    "#여기서 사용되는 X데이터는 2600 * 9 개의 행으로 된 결측치 처리가 안된 X데이터를 이용한다.\n",
    "#13개의 데이터를 나누기 용이하게 하기 위함\n",
    "\n",
    "X_data = pd.read_csv(\"rawDataset2.csv\")\n",
    "X_data = X_data.set_index(\"Unnamed: 0\")\n",
    "X_data"
   ]
  },
  {
   "cell_type": "code",
   "execution_count": 4,
   "metadata": {
    "ExecuteTime": {
     "end_time": "2021-07-05T10:37:15.099103Z",
     "start_time": "2021-07-05T10:37:15.087136Z"
    }
   },
   "outputs": [],
   "source": [
    "#백테스팅 기간 : 총 2017년 1월 1일 부터 2021년 12월 30 까지 (나중에 3월 과 6월 데이터 추가하기)\n",
    "#총 13기간의 데이터 존재 , EX) 2017년 1월 1일 == 해당날짜에 딥러닝모델을 돌릴 수 있음."
   ]
  },
  {
   "cell_type": "code",
   "execution_count": null,
   "metadata": {},
   "outputs": [],
   "source": [
    "#13개의 데이터 # 13개의 3개월 단위의 시간\n",
    "datanumbers = 13 \n",
    "\n",
    "#백테스트를 위한 반복문\n",
    "for i in tqdm(range(datanumbers)) : \n",
    "    \n",
    "    #종목 코드 가져오기\n",
    "    \n",
    "    X_predict = X_data[200*i : 200*(i+1) ] #200개의 행씩 끊기\n",
    "    \n",
    "    X_predict1 = X_predict.dropna(how='any') #결측치 제거\n",
    "    \n",
    "    Y_predict = deep_model.predict(X_predict1.values[:,4:8]) # 딥러닝 모델을 통한 예측\n",
    "    \n",
    "    Y_predict1 = pd.DataFrame(Y_predict) #데이터 프레임화\n",
    "\n",
    "    Y_predict2 = Y_predict1.sort_values(by=0,ascending=False).head(10) #확률이 높은 순대로 상위 10개 가져오기\n",
    "    \n",
    "    dir_list = np.array(Y_predict2.index) # 상위 10개 종목의 데이터 행위치 \n",
    "    \n",
    "    Code_list = np.array(X_predict1.index)[dir_list] #상위 10개 종목코드 리스트 #array 형태로 만들어야 저런 형식으로 슬라이싱가능\n",
    "    \n",
    "    \n",
    "    for num,j in enumerate(Code_list) : #벡테스팅 돌리기\n",
    "        \n",
    "        # 백테스트 구하기\n",
    "        \n",
    "        \n",
    "        \n",
    "        \n",
    "        #예상 결과물\n",
    "        #종목하나 마다 시간별 수익정보 데이터 프레임\n",
    "        \n",
    "        #전체 종목의 합산 데이터 칼럼 만들기 + 거기에서 또 수익률을 나타내는 칼럼 추가\n",
    "        \n",
    "        #아직 구현이 안되어있음\n",
    "        \n",
    "        \n",
    "        \n",
    "        \n",
    "    \n",
    "    "
   ]
  },
  {
   "cell_type": "code",
   "execution_count": 49,
   "metadata": {
    "ExecuteTime": {
     "end_time": "2021-07-05T11:12:11.840268Z",
     "start_time": "2021-07-05T11:12:11.833296Z"
    }
   },
   "outputs": [
    {
     "data": {
      "text/plain": [
       "numpy.int64"
      ]
     },
     "execution_count": 49,
     "metadata": {},
     "output_type": "execute_result"
    }
   ],
   "source": []
  },
  {
   "cell_type": "code",
   "execution_count": 43,
   "metadata": {
    "ExecuteTime": {
     "end_time": "2021-07-05T11:10:30.648371Z",
     "start_time": "2021-07-05T11:10:30.633412Z"
    }
   },
   "outputs": [],
   "source": [
    "k = [\"1\",\"2\",\"3\"]"
   ]
  },
  {
   "cell_type": "code",
   "execution_count": null,
   "metadata": {
    "ExecuteTime": {
     "end_time": "2021-07-05T10:47:45.806030Z",
     "start_time": "2021-07-05T10:47:45.790073Z"
    }
   },
   "outputs": [],
   "source": []
  },
  {
   "cell_type": "code",
   "execution_count": null,
   "metadata": {},
   "outputs": [],
   "source": []
  }
 ],
 "metadata": {
  "kernelspec": {
   "display_name": "Python 3",
   "language": "python",
   "name": "python3"
  },
  "language_info": {
   "codemirror_mode": {
    "name": "ipython",
    "version": 3
   },
   "file_extension": ".py",
   "mimetype": "text/x-python",
   "name": "python",
   "nbconvert_exporter": "python",
   "pygments_lexer": "ipython3",
   "version": "3.7.9"
  },
  "toc": {
   "base_numbering": 1,
   "nav_menu": {},
   "number_sections": true,
   "sideBar": true,
   "skip_h1_title": false,
   "title_cell": "Table of Contents",
   "title_sidebar": "Contents",
   "toc_cell": false,
   "toc_position": {},
   "toc_section_display": true,
   "toc_window_display": false
  },
  "varInspector": {
   "cols": {
    "lenName": 16,
    "lenType": 16,
    "lenVar": 40
   },
   "kernels_config": {
    "python": {
     "delete_cmd_postfix": "",
     "delete_cmd_prefix": "del ",
     "library": "var_list.py",
     "varRefreshCmd": "print(var_dic_list())"
    },
    "r": {
     "delete_cmd_postfix": ") ",
     "delete_cmd_prefix": "rm(",
     "library": "var_list.r",
     "varRefreshCmd": "cat(var_dic_list()) "
    }
   },
   "types_to_exclude": [
    "module",
    "function",
    "builtin_function_or_method",
    "instance",
    "_Feature"
   ],
   "window_display": false
  }
 },
 "nbformat": 4,
 "nbformat_minor": 4
}
